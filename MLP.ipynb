{
 "cells": [
  {
   "cell_type": "code",
   "execution_count": 35,
   "metadata": {},
   "outputs": [
    {
     "name": "stdout",
     "output_type": "stream",
     "text": [
      "(711, 24, 120)\n",
      "(711, 2880)\n",
      "(473, 24, 120)\n",
      "(473, 2880)\n",
      "(584, 24, 120)\n",
      "(584, 2880)\n",
      "(708, 24, 120)\n",
      "(708, 2880)\n",
      "(174, 24, 120)\n",
      "(174, 2880)\n",
      "(1000, 24, 120)\n",
      "(1000, 2880)\n",
      "(2650, 24, 120)\n",
      "(2650, 2880)\n",
      "(711, 24, 15)\n",
      "(711, 360)\n",
      "(473, 24, 15)\n",
      "(473, 360)\n",
      "(584, 24, 15)\n",
      "(584, 360)\n",
      "(708, 24, 15)\n",
      "(708, 360)\n",
      "(174, 24, 15)\n",
      "(174, 360)\n",
      "(1000, 24, 15)\n",
      "(1000, 360)\n",
      "(2650, 24, 15)\n",
      "(2650, 360)\n",
      "(711, 24, 15)\n",
      "(711, 360)\n",
      "(473, 24, 15)\n",
      "(473, 360)\n",
      "(584, 24, 15)\n",
      "(584, 360)\n",
      "(708, 24, 15)\n",
      "(708, 360)\n",
      "(174, 24, 15)\n",
      "(174, 360)\n",
      "(1000, 24, 15)\n",
      "(1000, 360)\n",
      "(2650, 24, 15)\n",
      "(2650, 360)\n",
      "[[0.2345 0.1205 0.118  ... 1.242  1.083  1.0395]\n",
      " [0.488  0.4155 0.2585 ... 0.741  0.678  0.3555]\n",
      " [0.415  0.315  0.89   ... 1.152  0.91   0.6785]\n",
      " ...\n",
      " [0.6025 0.395  0.3645 ... 2.233  2.0965 1.907 ]\n",
      " [0.608  0.2165 0.1895 ... 1.038  0.9225 0.8295]\n",
      " [0.217  0.255  0.2565 ... 0.758  0.4865 0.246 ]]\n"
     ]
    }
   ],
   "source": [
    "# 将训练集，测试集和验证集按时间序列（单位：小时）排好 \n",
    "import matplotlib.pyplot as plt\n",
    "from sklearn.preprocessing import MinMaxScaler\n",
    "import scipy.io as sio\n",
    "import numpy as np\n",
    "\n",
    "data = sio.loadmat('processed_data_dict.mat')\n",
    "user_id = 0\n",
    "load_all = 1\n",
    "train_load = 2\n",
    "val_load = 3\n",
    "test_load = 4\n",
    "exist_load = 5\n",
    "\n",
    "plt.rcParams['font.sans-serif'] = ['SimHei']\n",
    "plt.rcParams['axes.unicode_minus'] = False\n",
    "\n",
    "train_time_series = {}\n",
    "for district in data:\n",
    "    if district.startswith('__'):\n",
    "        continue\n",
    "    district_data = data[district]\n",
    "    l_data = np.array([user[train_load] for user in district_data])\n",
    "    print(l_data.shape)\n",
    "    num_users, num_hours, num_days = l_data.shape\n",
    "    transformed_l_data = np.zeros((num_users, num_hours * num_days))\n",
    "    for i in range(num_users):\n",
    "         for j in range(num_days):\n",
    "            for k in range(num_hours):\n",
    "                transformed_l_data[i, j * num_hours + k] = l_data[i, k, j]\n",
    "                train_time_series[district] = transformed_l_data    \n",
    "    transformed_l_data = np.array(transformed_l_data)\n",
    "    print(transformed_l_data.shape)     \n",
    "    train_time_series[district] = transformed_l_data\n",
    "\n",
    "val_time_series = {}\n",
    "for district in data:\n",
    "    if district.startswith('__'):\n",
    "        continue\n",
    "    district_data = data[district]\n",
    "    v_data = np.array([user[val_load] for user in district_data])\n",
    "    print(v_data.shape)\n",
    "    num_users, num_hours, num_days = v_data.shape\n",
    "    transformed_v_data = np.zeros((num_users, num_hours * num_days))\n",
    "    for i in range(num_users):\n",
    "         for j in range(num_days):\n",
    "            for k in range(num_hours):\n",
    "                transformed_v_data[i, j * num_hours + k] = v_data[i, k, j]\n",
    "                val_time_series[district] = transformed_v_data    \n",
    "    transformed_v_data = np.array(transformed_v_data)\n",
    "    print(transformed_v_data.shape)     \n",
    "    val_time_series[district] = transformed_v_data\n",
    "\n",
    "test_time_series = {}\n",
    "for district in data:\n",
    "    if district.startswith('__'):\n",
    "        continue\n",
    "    district_data = data[district]\n",
    "    t_data = np.array([user[test_load] for user in district_data])\n",
    "    print(t_data.shape)\n",
    "    num_users, num_hours, num_days = t_data.shape\n",
    "    transformed_t_data = np.zeros((num_users, num_hours * num_days))\n",
    "    for i in range(num_users):\n",
    "         for j in range(num_days):\n",
    "            for k in range(num_hours):\n",
    "                transformed_t_data[i, j * num_hours + k] = t_data[i, k, j]\n",
    "                test_time_series[district] = transformed_t_data    \n",
    "    transformed_t_data = np.array(transformed_t_data)\n",
    "    print(transformed_t_data.shape)     \n",
    "    test_time_series[district] = transformed_t_data\n",
    "print(test_time_series['A_user_data'])\n"
   ]
  },
  {
   "cell_type": "code",
   "execution_count": 36,
   "metadata": {},
   "outputs": [
    {
     "name": "stdout",
     "output_type": "stream",
     "text": [
      "(2880, 1)\n",
      "(2880, 1)\n",
      "(2880, 1)\n",
      "(2880, 1)\n",
      "(2880, 1)\n",
      "(2880, 1)\n",
      "(2880, 1)\n",
      "(360, 1)\n",
      "(360, 1)\n",
      "(360, 1)\n",
      "(360, 1)\n",
      "(360, 1)\n",
      "(360, 1)\n",
      "(360, 1)\n",
      "(360, 1)\n",
      "(360, 1)\n",
      "(360, 1)\n",
      "(360, 1)\n",
      "(360, 1)\n",
      "(360, 1)\n",
      "(360, 1)\n"
     ]
    }
   ],
   "source": [
    "\n",
    "# 对用户数维度加和，归一化\n",
    "scaler = MinMaxScaler(feature_range=(0, 1))\n",
    "for district in train_time_series:\n",
    "        train_time_series[district] = np.sum(train_time_series[district],axis=0)\n",
    "        train_time_series[district] = scaler.fit_transform(train_time_series[district].reshape(-1,1))\n",
    "        print(train_time_series[district].shape)\n",
    "#print(train_time_series['A_user_data'])\n",
    "for district in val_time_series:\n",
    "        val_time_series[district] = np.sum(val_time_series[district],axis=0)\n",
    "        val_time_series[district] = scaler.fit_transform(val_time_series[district].reshape(-1,1))\n",
    "        print(val_time_series[district].shape)\n",
    "#print(val_time_series['A_user_data'])\n",
    "for district in test_time_series:\n",
    "        test_time_series[district] = np.sum(test_time_series[district],axis=0)\n",
    "        test_time_series[district] = scaler.fit_transform(test_time_series[district].reshape(-1,1))\n",
    "        print(test_time_series[district].shape)\n",
    "#print(test_time_series['A_user_data'])"
   ]
  },
  {
   "cell_type": "code",
   "execution_count": 37,
   "metadata": {},
   "outputs": [
    {
     "name": "stdout",
     "output_type": "stream",
     "text": [
      "(2805, 72)\n",
      "(2805, 4)\n"
     ]
    }
   ],
   "source": [
    "x_train = []\n",
    "y_train = []\n",
    "for i in range(len(train_time_series['A_user_data'])-24*3-4+1):\n",
    "    x_train.append(train_time_series['A_user_data'][i:i+24*3].flatten())\n",
    "    y_train.append(train_time_series['A_user_data'][i+24*3:i+24*3+4].flatten())\n",
    "x_train = np.array(x_train)\n",
    "y_train = np.array(y_train)\n",
    "print(x_train.shape)\n",
    "print(y_train.shape)"
   ]
  },
  {
   "cell_type": "code",
   "execution_count": 38,
   "metadata": {},
   "outputs": [
    {
     "name": "stdout",
     "output_type": "stream",
     "text": [
      "(285, 72)\n",
      "(285, 4)\n"
     ]
    }
   ],
   "source": [
    "x_val = []\n",
    "y_val = []\n",
    "for i in range(len(val_time_series['A_user_data'])-24*3-4+1):\n",
    "    x_val.append(val_time_series['A_user_data'][i:i+24*3].flatten())\n",
    "    y_val.append(val_time_series['A_user_data'][i+24*3:i+24*3+4].flatten())\n",
    "x_val = np.array(x_val)\n",
    "y_val = np.array(y_val)\n",
    "print(x_val.shape)\n",
    "print(y_val.shape)"
   ]
  },
  {
   "cell_type": "code",
   "execution_count": 39,
   "metadata": {},
   "outputs": [
    {
     "name": "stdout",
     "output_type": "stream",
     "text": [
      "(285, 72)\n",
      "(285, 4)\n"
     ]
    }
   ],
   "source": [
    "x_test = []\n",
    "y_test = []\n",
    "for i in range(len(test_time_series['A_user_data'])-24*3-4+1):\n",
    "    x_test.append(test_time_series['A_user_data'][i:i+24*3].flatten())\n",
    "    y_test.append(test_time_series['A_user_data'][i+24*3:i+24*3+4].flatten())\n",
    "x_test = np.array(x_test)\n",
    "y_test = np.array(y_test)\n",
    "print(x_test.shape)\n",
    "print(y_test.shape)"
   ]
  },
  {
   "cell_type": "code",
   "execution_count": 40,
   "metadata": {},
   "outputs": [
    {
     "name": "stdout",
     "output_type": "stream",
     "text": [
      "torch.Size([2805, 72])\n",
      "torch.Size([2805, 4])\n",
      "torch.Size([285, 72])\n",
      "torch.Size([285, 4])\n",
      "torch.Size([285, 72])\n",
      "torch.Size([285, 4])\n"
     ]
    }
   ],
   "source": [
    "import torch\n",
    "\n",
    "x_train_tensor = torch.tensor(x_train, dtype=torch.float32)\n",
    "y_train_tensor = torch.tensor(y_train, dtype=torch.float32)\n",
    "\n",
    "x_val_tensor = torch.tensor(x_val, dtype=torch.float32)\n",
    "y_val_tensor = torch.tensor(y_val, dtype=torch.float32)\n",
    "\n",
    "x_test_tensor = torch.tensor(x_test, dtype=torch.float32)\n",
    "y_test_tensor = torch.tensor(y_test, dtype=torch.float32)\n",
    "\n",
    "print(x_train_tensor.shape)\n",
    "print(y_train_tensor.shape)\n",
    "print(x_val_tensor.shape)\n",
    "print(y_val_tensor.shape)\n",
    "print(x_test_tensor.shape)\n",
    "print(y_test_tensor.shape)"
   ]
  },
  {
   "cell_type": "code",
   "execution_count": 41,
   "metadata": {},
   "outputs": [],
   "source": [
    "from torch.utils.data import DataLoader, TensorDataset\n",
    "batch_size = 32\n",
    "train_dataset = TensorDataset(x_train_tensor, y_train_tensor)\n",
    "val_dataset = TensorDataset(x_val_tensor, y_val_tensor)\n",
    "test_dataset = TensorDataset(x_test_tensor, y_test_tensor)\n",
    "\n",
    "train_loader = DataLoader(train_dataset, batch_size=batch_size, shuffle=True)\n",
    "val_loader = DataLoader(val_dataset, batch_size=batch_size, shuffle=False)\n",
    "test_loader = DataLoader(test_dataset, batch_size=batch_size, shuffle=False)"
   ]
  },
  {
   "cell_type": "code",
   "execution_count": 42,
   "metadata": {},
   "outputs": [],
   "source": [
    "input_size = 72\n",
    "output_size =4\n",
    "import torch.nn as nn\n",
    "class MLP(nn.Module):\n",
    "    def __init__(self, input_size, output_size):\n",
    "        super(MLP,self).__init__()\n",
    "        self.fc1 = nn.Linear(input_size,128)\n",
    "        self.relu1 = nn.ReLU()\n",
    "        self.fc2 = nn.Linear(128,64)\n",
    "        self.relu2 = nn.ReLU()\n",
    "        self.fc3 = nn.Linear(64,output_size)\n",
    "    def forward(self,x):\n",
    "        out = self.fc1(x)\n",
    "        out = self.relu1(out)\n",
    "        out = self.fc2(out)\n",
    "        out = self.relu2(out)\n",
    "        out = self.fc3(out)\n",
    "        return out"
   ]
  },
  {
   "cell_type": "code",
   "execution_count": 43,
   "metadata": {},
   "outputs": [
    {
     "name": "stdout",
     "output_type": "stream",
     "text": [
      "Epoch [1/800], Train Loss: 0.1212, Val Loss: 0.1694\n",
      "Epoch [101/800], Train Loss: 0.0047, Val Loss: 0.0081\n",
      "Epoch [201/800], Train Loss: 0.0041, Val Loss: 0.0072\n",
      "Epoch [301/800], Train Loss: 0.0038, Val Loss: 0.0067\n",
      "Epoch [401/800], Train Loss: 0.0035, Val Loss: 0.0063\n",
      "Epoch [501/800], Train Loss: 0.0033, Val Loss: 0.0060\n",
      "Epoch [601/800], Train Loss: 0.0032, Val Loss: 0.0056\n",
      "Epoch [701/800], Train Loss: 0.0030, Val Loss: 0.0054\n",
      "Best model saved with validation loss: 0.0052\n"
     ]
    }
   ],
   "source": [
    "import torch.optim as optim\n",
    "\n",
    "model = MLP(input_size,output_size)\n",
    "criterion = nn.MSELoss()\n",
    "optimizer = optim.SGD(model.parameters(),lr = 0.01)\n",
    "epochs = 800\n",
    "best_val_loss = float('inf')\n",
    "best_model_state = None\n",
    "\n",
    "for epoch in range(epochs):\n",
    "    model.train()\n",
    "    train_loss = 0.0\n",
    "    for inputs, targets in train_loader:\n",
    "        optimizer.zero_grad()\n",
    "        outputs = model(inputs)\n",
    "        loss = criterion(outputs, targets)\n",
    "        loss.backward()\n",
    "        optimizer.step()\n",
    "        train_loss += loss.item() * inputs.size(0)\n",
    "    \n",
    "    train_loss /= len(train_loader.dataset)\n",
    "    \n",
    "    model.eval()\n",
    "    val_loss = 0.0\n",
    "    with torch.no_grad():\n",
    "        for inputs, targets in val_loader:\n",
    "            outputs = model(inputs)\n",
    "            loss = criterion(outputs, targets)\n",
    "            val_loss += loss.item() * inputs.size(0)\n",
    "    \n",
    "    val_loss /= len(val_loader.dataset)\n",
    "    if epoch % 100 == 0:\n",
    "        print(f'Epoch [{epoch+1}/{epochs}], Train Loss: {train_loss:.4f}, Val Loss: {val_loss:.4f}')\n",
    "    \n",
    "    if val_loss < best_val_loss:\n",
    "        best_val_loss = val_loss\n",
    "        best_model_state = model.state_dict()\n",
    "        torch.save(best_model_state, 'MLP.pth')\n",
    "print(\"Best model saved with validation loss: {:.4f}\".format(best_val_loss))    \n",
    "    "
   ]
  },
  {
   "cell_type": "code",
   "execution_count": 44,
   "metadata": {},
   "outputs": [
    {
     "name": "stdout",
     "output_type": "stream",
     "text": [
      "Test Loss: 0.0048\n"
     ]
    }
   ],
   "source": [
    "model.load_state_dict(torch.load('MLP.pth'))\n",
    "model.eval()\n",
    "test_loss = 0.0\n",
    "predictions = []\n",
    "actuals = []\n",
    "with torch.no_grad():\n",
    "    for inputs, targets in test_loader:\n",
    "        outputs = model(inputs)\n",
    "        loss = criterion(outputs, targets)\n",
    "        test_loss += loss.item() * inputs.size(0)\n",
    "        predictions.append(outputs.numpy())\n",
    "        actuals.append(targets.numpy())\n",
    "\n",
    "test_loss /= len(test_loader.dataset)\n",
    "print(f'Test Loss: {test_loss:.4f}')"
   ]
  },
  {
   "cell_type": "code",
   "execution_count": 45,
   "metadata": {},
   "outputs": [
    {
     "data": {
      "image/png": "[encoded data removed]",
      "text/plain": [
       "<Figure size 1200x800 with 1 Axes>"
      ]
     },
     "metadata": {},
     "output_type": "display_data"
    }
   ],
   "source": [
    "\n",
    "predictions = np.concatenate(predictions,axis=0)\n",
    "actuals = np.concatenate(actuals,axis=0)\n",
    "\n",
    "plot_size = 48\n",
    "plt.figure(figsize=(12, 8))\n",
    "plt.plot(predictions[:plot_size, 0], \"b\", label='预测值')\n",
    "plt.plot(actuals[:plot_size, 0], \"r\", label='真实值')\n",
    "plt.legend(loc='best')\n",
    "plt.title('测试集预测结果')\n",
    "plt.xlabel('样本索引')\n",
    "plt.ylabel('值')\n",
    "plt.show()"
   ]
  },
  {
   "cell_type": "code",
   "execution_count": 46,
   "metadata": {},
   "outputs": [
    {
     "name": "stdout",
     "output_type": "stream",
     "text": [
      "R2: 0.9462755777838345\n",
      "MAE: 0.05276054\n",
      "RMSE: 0.06938275\n",
      "MAPE: 0.17487775\n"
     ]
    }
   ],
   "source": [
    "from sklearn.metrics import r2_score\n",
    "from sklearn.metrics import mean_squared_error\n",
    "from sklearn.metrics import mean_absolute_error\n",
    "\n",
    "R2 = r2_score(actuals,predictions)\n",
    "MAE = mean_absolute_error(actuals,predictions)\n",
    "RMSE = np.sqrt(mean_squared_error(actuals,predictions))\n",
    "MAPE = np.mean(np.abs(actuals-predictions)/predictions)\n",
    "print('R2:',R2)\n",
    "print('MAE:',MAE)\n",
    "print('RMSE:',RMSE)\n",
    "print('MAPE:',MAPE)"
   ]
  }
 ],
 "metadata": {
  "kernelspec": {
   "display_name": "torch",
   "language": "python",
   "name": "python3"
  },
  "language_info": {
   "codemirror_mode": {
    "name": "ipython",
    "version": 3
   },
   "file_extension": ".py",
   "mimetype": "text/x-python",
   "name": "python",
   "nbconvert_exporter": "python",
   "pygments_lexer": "ipython3",
   "version": "3.11.8"
  }
 },
 "nbformat": 4,
 "nbformat_minor": 2
}
